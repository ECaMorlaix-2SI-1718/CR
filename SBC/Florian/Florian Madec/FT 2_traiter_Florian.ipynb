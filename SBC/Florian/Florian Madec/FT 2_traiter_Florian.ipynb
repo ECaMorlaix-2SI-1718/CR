{
 "cells": [
  {
   "cell_type": "code",
   "execution_count": null,
   "metadata": {
    "collapsed": true
   },
   "outputs": [],
   "source": [
    "FT 2: traiter/convertir\n",
    "    \n",
    "Le rôle principale d'un SBC est de traiter une information pour dénir en quoi cette information va être traité pour ensuite être transmis à la voiture.\n",
    "\n",
    "La simulation:\n",
    "\n",
    "    Pour la simulation nous allons donc utiliser le logiciel de programmation de Python/Scratch pour simuler la convertion entre les donnés de la télécommande et les données reçu par les moteurs et les moteurs.    \n",
    "    \n",
    "    Pour faire cela nous allons simuler l'action sur un des boutons de la télécommande pour reproduire l'action que devra faire le moteur à partir de cela.\n",
    "    \n",
    "    Comme par exemple l'action sur un des joysticks pour pouvoir faire avancer ou reculer la voiture.\n",
    "    \n",
    "    La simulation permettra donc de démontrer se que le véhicule vas faire pour pouvoir ensuite le faire avec une voiture et une télécommande réel.\n",
    "\n",
    "\n",
    "\n",
    "\n",
    "\n",
    "\n",
    "\n"
   ]
  },
  {
   "cell_type": "code",
   "execution_count": null,
   "metadata": {
    "collapsed": true
   },
   "outputs": [],
   "source": [
    "#FT 2\n"
   ]
  }
 ],
 "metadata": {
  "kernelspec": {
   "display_name": "Python 3",
   "language": "python",
   "name": "python3"
  },
  "language_info": {
   "codemirror_mode": {
    "name": "ipython",
    "version": 3
   },
   "file_extension": ".py",
   "mimetype": "text/x-python",
   "name": "python",
   "nbconvert_exporter": "python",
   "pygments_lexer": "ipython3",
   "version": "3.6.1"
  }
 },
 "nbformat": 4,
 "nbformat_minor": 2
}
