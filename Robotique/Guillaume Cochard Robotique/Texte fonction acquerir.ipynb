{
 "cells": [
  {
   "cell_type": "markdown",
   "metadata": {},
   "source": [
    "# Comment le robot acquerit une information"
   ]
  },
  {
   "cell_type": "markdown",
   "metadata": {},
   "source": [
    "## il acquiert des informations grâce a des capteurs"
   ]
  },
  {
   "cell_type": "markdown",
   "metadata": {},
   "source": [
    "chaque capteur donne une information permetant de d'agir en conséquence comme par exemple:"
   ]
  },
  {
   "cell_type": "markdown",
   "metadata": {},
   "source": [
    "![capteur de base](imageCapteur/elementbasique.png )"
   ]
  },
  {
   "cell_type": "markdown",
   "metadata": {},
   "source": [
    "Le capteur de contact: quand la partie orange est pressée par un obstacle, le capteur acquérit l'information et l'envoie à la machine centrale"
   ]
  },
  {
   "cell_type": "markdown",
   "metadata": {},
   "source": []
  }
 ],
 "metadata": {
  "kernelspec": {
   "display_name": "Python 3",
   "language": "python",
   "name": "python3"
  },
  "language_info": {
   "codemirror_mode": {
    "name": "ipython",
    "version": 3
   },
   "file_extension": ".py",
   "mimetype": "text/x-python",
   "name": "python",
   "nbconvert_exporter": "python",
   "pygments_lexer": "ipython3",
   "version": "3.6.3"
  }
 },
 "nbformat": 4,
 "nbformat_minor": 2
}
