{
 "cells": [
  {
   "cell_type": "markdown",
   "metadata": {},
   "source": [
    "# Comment le robot acquerit une information"
   ]
  },
  {
   "cell_type": "markdown",
   "metadata": {},
   "source": [
    "## il acquerit des informations grâce a des capteurs qui sont:"
   ]
  },
  {
   "cell_type": "markdown",
   "metadata": {},
   "source": [
    "### le capteur de contact"
   ]
  },
  {
   "cell_type": "markdown",
   "metadata": {},
   "source": [
    "ce capteur marche grâce a detecteur de pression situé a l'avant qui va s'écrasé quand une surface est touché, et il envoye les données."
   ]
  }
 ],
 "metadata": {
  "kernelspec": {
   "display_name": "Python 3",
   "language": "python",
   "name": "python3"
  },
  "language_info": {
   "codemirror_mode": {
    "name": "ipython",
    "version": 3
   },
   "file_extension": ".py",
   "mimetype": "text/x-python",
   "name": "python",
   "nbconvert_exporter": "python",
   "pygments_lexer": "ipython3",
   "version": "3.6.3"
  }
 },
 "nbformat": 4,
 "nbformat_minor": 2
}
