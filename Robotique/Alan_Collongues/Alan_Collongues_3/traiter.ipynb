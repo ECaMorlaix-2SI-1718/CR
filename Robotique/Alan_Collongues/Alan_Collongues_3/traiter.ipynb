{
 "cells": [
  {
   "cell_type": "markdown",
   "metadata": {},
   "source": [
    "# *bienvenue sur notre page qui presentera la fonction traiter des differents suports robotiques mindstorm*"
   ]
  },
  {
   "cell_type": "markdown",
   "metadata": {},
   "source": [
    "![lego1](img\\lego1.jpg \"lego mindstorm\")"
   ]
  },
  {
   "cell_type": "markdown",
   "metadata": {},
   "source": [
    "### Ici vous trouverez toute les information sur les briques de controle des lego Mindstorm EV3.\n",
    "\n"
   ]
  },
  {
   "cell_type": "markdown",
   "metadata": {},
   "source": [
    "la brique de controlle du EV3 est un mini aurdinateur sous linux avec un ecran de petite taille qui permet de faire de faire de petite action avec une configuration minimale:  \n",
    "Système d'exploitation – LINUX  \n",
    "Processeur ARM9 300 MHz  \n",
    "Mémoire flash – 16 Mo  \n",
    "Mémoire vive – 64 Mo  \n",
    "Résolution de l'écran – 178x128/noir & blanc  \n",
    "Communication USB 2.0 vers PC – Jusqu'à 480 Mbit/s  \n",
    "Communication USB 1.1 – Jusqu'à 12 Mbit/s  \n",
    "Carte MicroSD – Compatible SDHC, version 2.0,  \n",
    "max. 32 Go  \n",
    "Ports pour moteurs et capteurs  \n",
    "Connecteurs – RJ12  \n",
    "Compatible Auto ID  \n",
    "Alimentation – 6 piles AA  \n",
    "(rechargeables)  \n",
    "![fdfsdf](img/lego2.jpg \"brique de controlle\")\n",
    "### Le fontionnement de la brique de contrôle:\n",
    "\n",
    "la brique de controlle est programmer par ordinateur et gere toute les info elle même grace a son processeur   \n",
    "il y a plusieur capteurs qui peuvent etre mis sur le robot ce qui permet un nombre infinit de possibilité de creation  \n",
    "Avec tout ces capteur le robot peut effectue avec la bonne programmation plusieur action en autonomie\n",
    "# la programmation de la brique\n",
    "\n",
    "### le logiciel :\n",
    "\n",
    "le lego mindstorm est programmable sur un logiciel spécial fournit gratuitement.\n",
    "![fdfsdf](img/lego5.png \"brique de controlle\")\n",
    "le logiciel est un logiciel de programmation graphique    \n",
    "il existe un lçogiciel tiers qui s'appele [enchanting](http://enchanting.robotclub.ab.ca/tiki-index.php \"site officiel\")\n",
    "![fdfsdf](img/System-1.png \"brique de controlle\")"
   ]
  },
  {
   "cell_type": "markdown",
   "metadata": {
    "collapsed": true
   },
   "source": [
    "## la brique de version anterieur la NXT\n",
    "![fdfsdf](img/lego6.jpg \"brique de controlle\")\n",
    "elle est la petite soeur de la brique EV3 et embarque moins de possibilité tel que le bluetooth pour la programmer avec une tablet ou un smartphone     \n",
    "![fdfsdf](img/lego7.jpg \"brique de controlle\")\n",
    "on voit sont anteriorité sur sont logiciel de programmation qui est moins disigne et plus technique.   \n",
    "les deux logiciel on un points commun c'est que la programmation s'effectue equipement après equipement avec des block comme dans scratch la brique NXT peut aussi être programmé avec le logiciel [enchanting](http://enchanting.robotclub.ab.ca/tiki-index.php \"site officiel\")"
   ]
  },
  {
   "cell_type": "markdown",
   "metadata": {
    "collapsed": true
   },
   "source": [
    "## _le but du projet_    \n",
    "    \n",
    "    le but de notre projet est de participer a robofesta qui est une conpetition en 2 épreuve, une epreuve de sauvetage et une épreuve de chorégraphie."
   ]
  },
  {
   "cell_type": "markdown",
   "metadata": {},
   "source": []
  },
  {
   "cell_type": "markdown",
   "metadata": {},
   "source": []
  }
 ],
 "metadata": {
  "kernelspec": {
   "display_name": "Python 3",
   "language": "python",
   "name": "python3"
  },
  "language_info": {
   "codemirror_mode": {
    "name": "ipython",
    "version": 3
   },
   "file_extension": ".py",
   "mimetype": "text/x-python",
   "name": "python",
   "nbconvert_exporter": "python",
   "pygments_lexer": "ipython3",
   "version": "3.6.3"
  }
 },
 "nbformat": 4,
 "nbformat_minor": 2
}
