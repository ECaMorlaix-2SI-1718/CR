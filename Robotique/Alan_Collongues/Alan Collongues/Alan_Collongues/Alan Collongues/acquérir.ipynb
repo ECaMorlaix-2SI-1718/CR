{
 "cells": [
  {
   "cell_type": "markdown",
   "metadata": {},
   "source": [
    "# *bienvenue sur norte page qui presentera la fonction traiter des different suport robotique*"
   ]
  },
  {
   "cell_type": "markdown",
   "metadata": {},
   "source": [
    "![lego1](img/lego1.jpg \"lego mindstorm\")"
   ]
  },
  {
   "cell_type": "markdown",
   "metadata": {},
   "source": [
    "### Ici vous trouverez toute les information sur les briques de controle des lego Mindstorm et leur maniere de traiter l'information.\n",
    "\n"
   ]
  },
  {
   "cell_type": "markdown",
   "metadata": {},
   "source": [
    "># carte mere de la brique de controlle"
   ]
  },
  {
   "cell_type": "markdown",
   "metadata": {},
   "source": [
    "**ici vous trouver la description de tout ce qui concerne la carte mere du lego mindstorm ev3**"
   ]
  },
  {
   "attachments": {},
   "cell_type": "markdown",
   "metadata": {
    "collapsed": true
   },
   "source": [
    "![lego3](img/lego4.jpg \"lego mindstorm\")"
   ]
  },
  {
   "cell_type": "markdown",
   "metadata": {},
   "source": []
  },
  {
   "cell_type": "markdown",
   "metadata": {},
   "source": []
  }
 ],
 "metadata": {
  "kernelspec": {
   "display_name": "Python 3",
   "language": "python",
   "name": "python3"
  },
  "language_info": {
   "codemirror_mode": {
    "name": "ipython",
    "version": 3
   },
   "file_extension": ".py",
   "mimetype": "text/x-python",
   "name": "python",
   "nbconvert_exporter": "python",
   "pygments_lexer": "ipython3",
   "version": "3.6.3"
  }
 },
 "nbformat": 4,
 "nbformat_minor": 2
}
