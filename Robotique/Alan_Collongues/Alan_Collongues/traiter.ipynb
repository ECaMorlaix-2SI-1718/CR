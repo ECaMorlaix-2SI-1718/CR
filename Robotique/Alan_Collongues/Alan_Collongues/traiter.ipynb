{
 "cells": [
  {
   "cell_type": "markdown",
   "metadata": {},
   "source": [
    "# *bienvenue sur notre page qui presentera la fonction traiter des differents suports robotiques*"
   ]
  },
  {
   "cell_type": "markdown",
   "metadata": {},
   "source": [
    "![lego1](img/lego1.jpg \"lego mindstorm\")"
   ]
  },
  {
   "cell_type": "markdown",
   "metadata": {},
   "source": [
    "### Ici vous trouverez toute les information sur les briques de controle des lego Mindstorm.\n",
    "\n"
   ]
  },
  {
   "cell_type": "markdown",
   "metadata": {},
   "source": [
    "la brique de controlle du EV3 est un mini aurdinateur sous linux avec un ecran de petite taille qui permet de faire de faire de petite action avec une configuration minimale:  \n",
    "Système d'exploitation – LINUX  \n",
    "Processeur ARM9 300 MHz  \n",
    "Mémoire flash – 16 Mo  \n",
    "Mémoire vive – 64 Mo  \n",
    "Résolution de l'écran – 178x128/noir & blanc  \n",
    "Communication USB 2.0 vers PC – Jusqu'à 480 Mbit/s  \n",
    "Communication USB 1.1 – Jusqu'à 12 Mbit/s  \n",
    "Carte MicroSD – Compatible SDHC, version 2.0,  \n",
    "max. 32 Go  \n",
    "Ports pour moteurs et capteurs  \n",
    "Connecteurs – RJ12  \n",
    "Compatible Auto ID  \n",
    "Alimentation – 6 piles AA  \n",
    "(rechargeables)  \n",
    "![fdfsdf](img/lego2.jpg \"brique de controlle\")"
   ]
  },
  {
   "cell_type": "markdown",
   "metadata": {
    "collapsed": true
   },
   "source": [
    "### Le fontionnement de la brique de contrôle:\n",
    "\n",
    "la brique de controlle est programmer par ordinateur et gere toute les info elle même grace a son processeur   \n",
    "il y a plusieur capteurs qui peuvent etre mis sur le robot ce qui permet un nombre infinit de possibilité de creation  \n",
    "Avec tout ces capteur le robot peut effectue avec la bonne programmation plusieur action en autonomie"
   ]
  },
  {
   "cell_type": "markdown",
   "metadata": {},
   "source": [
    "!_[fdfsdf](http://www.image-humour.org/pics/160.jpg \"brique de controlle\")-"
   ]
  },
  {
   "cell_type": "markdown",
   "metadata": {},
   "source": []
  },
  {
   "cell_type": "code",
   "execution_count": null,
   "metadata": {
    "collapsed": true
   },
   "outputs": [],
   "source": []
  }
 ],
 "metadata": {
  "kernelspec": {
   "display_name": "Python 3",
   "language": "python",
   "name": "python3"
  },
  "language_info": {
   "codemirror_mode": {
    "name": "ipython",
    "version": 3
   },
   "file_extension": ".py",
   "mimetype": "text/x-python",
   "name": "python",
   "nbconvert_exporter": "python",
   "pygments_lexer": "ipython3",
   "version": "3.6.3"
  }
 },
 "nbformat": 4,
 "nbformat_minor": 2
}
