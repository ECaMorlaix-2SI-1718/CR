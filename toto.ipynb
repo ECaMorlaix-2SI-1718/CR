{
 "cells": [
  {
   "cell_type": "code",
   "execution_count": null,
   "metadata": {},
   "outputs": [],
   "source": []
  },
  {
   "cell_type": "markdown",
   "metadata": {},
   "source": [
    "|  Fonction principal  |   Muscler un individu        |\n",
    "|----------|:-------------:|\n",
    "| Fonction de service 1 |Changer la difficulté à l'effort|\n",
    "| Fonction de service 2 |Montrer les résultats|\n",
    "| Fonction de service 3 |Avoir un aspect qui s'adapte au décor environnant|\n",
    "| Fonction de service 4 |Avoir une prise en main confortable|\n",
    "| Fonction de service 5 |Poids maximal autorisé à respecter|\n",
    "| Fonction de service 6 |   |"
   ]
  },
  {
   "cell_type": "markdown",
   "metadata": {},
   "source": [
    "| Fonction principal | Muscler un individu |\n",
    "|:--------------------|-------------------:|\n",
    "|hgf|              dfg       |\n",
    "|                    |   toto                  |\n",
    "|                    |                     |\n",
    "|                    |                     |\n",
    "|                    |                     |"
   ]
  },
  {
   "cell_type": "code",
   "execution_count": null,
   "metadata": {},
   "outputs": [],
   "source": []
  }
 ],
 "metadata": {
  "kernelspec": {
   "display_name": "Python 3",
   "language": "python",
   "name": "python3"
  },
  "language_info": {
   "codemirror_mode": {
    "name": "ipython",
    "version": 3
   },
   "file_extension": ".py",
   "mimetype": "text/x-python",
   "name": "python",
   "nbconvert_exporter": "python",
   "pygments_lexer": "ipython3",
   "version": "3.6.4"
  }
 },
 "nbformat": 4,
 "nbformat_minor": 2
}
